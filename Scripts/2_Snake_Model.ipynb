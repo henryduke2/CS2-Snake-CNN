{
 "cells": [
  {
   "cell_type": "code",
   "execution_count": 19,
   "id": "7a2c5825-1520-4b21-a72d-089c34109352",
   "metadata": {
    "tags": []
   },
   "outputs": [
    {
     "name": "stdout",
     "output_type": "stream",
     "text": [
      "./snake_data\n",
      "./snake_data/snake_data\n",
      "./snake_data/snake_data/snake_data\n",
      "./snake_data/snake_data/snake_data/train\n",
      "./snake_data/snake_data/snake_data/train/non_venemous\n",
      "./snake_data/snake_data/snake_data/train/venemous\n",
      "./snake_data/snake_data/snake_data/test\n",
      "./snake_data/snake_data/snake_data/test/non_venemous\n",
      "./snake_data/snake_data/snake_data/test/venemous\n",
      "./snake_data/__MACOSX\n",
      "./snake_data/__MACOSX/snake_data\n",
      "./snake_data/__MACOSX/snake_data/snake_data\n",
      "./snake_data/__MACOSX/snake_data/snake_data/train\n",
      "./snake_data/__MACOSX/snake_data/snake_data/train/non_venemous\n",
      "./snake_data/__MACOSX/snake_data/snake_data/test\n",
      "./snake_data/__MACOSX/snake_data/snake_data/test/non_venemous\n",
      "./snake_data/__MACOSX/snake_data/snake_data/test/venemous\n"
     ]
    }
   ],
   "source": [
    "# importing and unzipping our snake data (images in .zip)\n",
    "\n",
    "import zipfile\n",
    "import os\n",
    "\n",
    "zip_path = 'snake_data.zip'\n",
    "with zipfile.ZipFile(zip_path, 'r') as zip_ref:\n",
    "    zip_ref.extractall('./snake_data')\n",
    "\n",
    "# folder structure\n",
    "for root, dirs, files in os.walk(\"./snake_data\", topdown=True):\n",
    "    print(root)"
   ]
  },
  {
   "cell_type": "code",
   "execution_count": 20,
   "id": "8ee0af4f-c16b-403d-8ba4-e23ec8e9e139",
   "metadata": {
    "tags": []
   },
   "outputs": [
    {
     "data": {
      "text/plain": [
       "'./snake_data_fixed'"
      ]
     },
     "execution_count": 20,
     "metadata": {},
     "output_type": "execute_result"
    }
   ],
   "source": [
    "import shutil\n",
    "import os\n",
    "\n",
    "# moving the \"correct\" nested folder up one level\n",
    "nested_path = \"./snake_data/snake_data/snake_data\"\n",
    "flat_path = \"./snake_data_fixed\"\n",
    "\n",
    "shutil.move(nested_path, flat_path)\n",
    "\n",
    "# makes directory nesting so image folders are in a clean and more accessible location for loading"
   ]
  },
  {
   "cell_type": "code",
   "execution_count": 21,
   "id": "978278d4-cb71-4dac-8d5a-a91cd8074db5",
   "metadata": {
    "tags": []
   },
   "outputs": [
    {
     "name": "stdout",
     "output_type": "stream",
     "text": [
      "Found 2938 images belonging to 2 classes.\n",
      "Found 1232 images belonging to 2 classes.\n"
     ]
    }
   ],
   "source": [
    "from tensorflow.keras.preprocessing.image import ImageDataGenerator\n",
    "\n",
    "# defining our paths\n",
    "train_dir = './snake_data_fixed/train'\n",
    "test_dir = './snake_data_fixed/test'\n",
    "\n",
    "# creating the data generators\n",
    "datagen = ImageDataGenerator(rescale=1./255)\n",
    "\n",
    "train_data = datagen.flow_from_directory(\n",
    "    train_dir,\n",
    "    target_size=(128, 128),\n",
    "    batch_size=32,\n",
    "    class_mode='binary'\n",
    ")\n",
    "\n",
    "test_data = datagen.flow_from_directory(\n",
    "    test_dir,\n",
    "    target_size=(128, 128),\n",
    "    batch_size=32,\n",
    "    class_mode='binary',\n",
    "    shuffle=False\n",
    ")\n",
    "\n",
    "# above, we've loaded and labeled images from folders while scaling pixel values for model training"
   ]
  },
  {
   "cell_type": "code",
   "execution_count": 22,
   "id": "c2d094b5-3102-4b68-ad51-febd3950a018",
   "metadata": {
    "tags": []
   },
   "outputs": [
    {
     "name": "stdout",
     "output_type": "stream",
     "text": [
      "Model: \"sequential_1\"\n",
      "_________________________________________________________________\n",
      " Layer (type)                Output Shape              Param #   \n",
      "=================================================================\n",
      " mobilenetv2_1.00_128 (Func  (None, 4, 4, 1280)        2257984   \n",
      " tional)                                                         \n",
      "                                                                 \n",
      " global_average_pooling2d_1  (None, 1280)              0         \n",
      "  (GlobalAveragePooling2D)                                       \n",
      "                                                                 \n",
      " dense_2 (Dense)             (None, 128)               163968    \n",
      "                                                                 \n",
      " dropout_1 (Dropout)         (None, 128)               0         \n",
      "                                                                 \n",
      " dense_3 (Dense)             (None, 1)                 129       \n",
      "                                                                 \n",
      "=================================================================\n",
      "Total params: 2422081 (9.24 MB)\n",
      "Trainable params: 164097 (641.00 KB)\n",
      "Non-trainable params: 2257984 (8.61 MB)\n",
      "_________________________________________________________________\n"
     ]
    }
   ],
   "source": [
    "from tensorflow.keras.applications import MobileNetV2\n",
    "from tensorflow.keras.models import Sequential\n",
    "from tensorflow.keras.layers import GlobalAveragePooling2D, Dense, Dropout\n",
    "\n",
    "# loads the MobileNetV2 model without the top layers (we’ll add our own output layers\n",
    "base_model = MobileNetV2(include_top=False, input_shape=(128, 128, 3), weights='imagenet')\n",
    "base_model.trainable = False  # freezes the MobileNetV2 base model so pretrained weights don’t change during training\n",
    "\n",
    "# builds our final model by new layers on top of the frozen base one\n",
    "model = Sequential([\n",
    "    base_model,\n",
    "    GlobalAveragePooling2D(),\n",
    "    Dense(128, activation='relu'),\n",
    "    Dropout(0.4),\n",
    "    Dense(1, activation='sigmoid')  # used forbinary classification\n",
    "])\n",
    "\n",
    "model.compile(optimizer='adam', loss='binary_crossentropy', metrics=['accuracy'])\n",
    "model.summary()\n",
    "\n",
    "# summary: builds and compiles a CNN using MobileNetV2 base to classify venomous verrsus non-venomous snakes"
   ]
  },
  {
   "cell_type": "code",
   "execution_count": 23,
   "id": "f5589640-4679-423b-8b62-5217fbd8da10",
   "metadata": {
    "tags": []
   },
   "outputs": [
    {
     "name": "stdout",
     "output_type": "stream",
     "text": [
      "Epoch 1/10\n",
      "92/92 [==============================] - 10s 90ms/step - loss: 0.1994 - accuracy: 0.9217 - val_loss: 0.1037 - val_accuracy: 0.9610\n",
      "Epoch 2/10\n",
      "92/92 [==============================] - 7s 82ms/step - loss: 0.0768 - accuracy: 0.9731 - val_loss: 0.1224 - val_accuracy: 0.9545\n",
      "Epoch 3/10\n",
      "92/92 [==============================] - 7s 78ms/step - loss: 0.0532 - accuracy: 0.9850 - val_loss: 0.1019 - val_accuracy: 0.9667\n",
      "Epoch 4/10\n",
      "92/92 [==============================] - 7s 77ms/step - loss: 0.0372 - accuracy: 0.9888 - val_loss: 0.1140 - val_accuracy: 0.9635\n",
      "Epoch 5/10\n",
      "92/92 [==============================] - 7s 77ms/step - loss: 0.0279 - accuracy: 0.9915 - val_loss: 0.1307 - val_accuracy: 0.9594\n",
      "Epoch 6/10\n",
      "92/92 [==============================] - 7s 78ms/step - loss: 0.0236 - accuracy: 0.9915 - val_loss: 0.1208 - val_accuracy: 0.9651\n",
      "Epoch 7/10\n",
      "92/92 [==============================] - 7s 78ms/step - loss: 0.0164 - accuracy: 0.9939 - val_loss: 0.1361 - val_accuracy: 0.9635\n",
      "Epoch 8/10\n",
      "92/92 [==============================] - 7s 77ms/step - loss: 0.0110 - accuracy: 0.9973 - val_loss: 0.1229 - val_accuracy: 0.9651\n",
      "Epoch 9/10\n",
      "92/92 [==============================] - 7s 76ms/step - loss: 0.0122 - accuracy: 0.9976 - val_loss: 0.1485 - val_accuracy: 0.9627\n",
      "Epoch 10/10\n",
      "92/92 [==============================] - 7s 77ms/step - loss: 0.0058 - accuracy: 0.9986 - val_loss: 0.1529 - val_accuracy: 0.9594\n"
     ]
    }
   ],
   "source": [
    "history = model.fit(\n",
    "    train_data,\n",
    "    validation_data=test_data,\n",
    "    epochs=10\n",
    ")\n",
    "\n",
    "# trains the model using the training data for 10 full passes, aka epochs, while checking accuracy on test data each time"
   ]
  },
  {
   "cell_type": "code",
   "execution_count": null,
   "id": "327738bd-65f2-4c6c-8e7a-df31c216919c",
   "metadata": {},
   "outputs": [],
   "source": [
    "from sklearn.metrics import classification_report, confusion_matrix, ConfusionMatrixDisplay, accuracy_score, precision_score, recall_score, f1_score\n",
    "import matplotlib.pyplot as plt\n",
    "import numpy as np\n",
    "\n",
    "# get true labels from the test generator\n",
    "y_true = test_data.classes\n",
    "\n",
    "# predict probabilities from the model\n",
    "y_pred_probs = model.predict(test_data)\n",
    "\n",
    "# convert probabilities to binary labels (as we use binary classification)\n",
    "y_pred = (y_pred_probs > 0.5).astype(int).flatten()\n",
    "\n",
    "# specific evaluation metrics defined in our MI2\n",
    "acc = accuracy_score(y_true, y_pred)\n",
    "prec = precision_score(y_true, y_pred)\n",
    "rec = recall_score(y_true, y_pred)\n",
    "f1 = f1_score(y_true, y_pred)\n",
    "\n",
    "# confusion matrix\n",
    "cm = confusion_matrix(y_true, y_pred)\n",
    "labels = list(test_data.class_indices.keys())\n",
    "\n",
    "print(\"Classification Report:\\n\")\n",
    "print(classification_report(y_true, y_pred, target_names=labels))\n",
    "\n",
    "# showing our confusion matrix\n",
    "disp = ConfusionMatrixDisplay(confusion_matrix=cm, display_labels=labels)\n",
    "disp.plot(cmap='Blues')\n",
    "plt.title(\"Confusion Matrix\")\n",
    "plt.show()\n",
    "\n",
    "print(f\"Accuracy: {acc:.4f}\")\n",
    "print(f\"Precision: {prec:.4f}\")\n",
    "print(f\"Recall: {rec:.4f}\")\n",
    "print(f\"F1 Score: {f1:.4f}\")\n"
   ]
  },
  {
   "cell_type": "code",
   "execution_count": null,
   "id": "0ce0de30-eb0d-405f-bea4-94f3ad4b81a2",
   "metadata": {},
   "outputs": [],
   "source": []
  }
 ],
 "metadata": {
  "kernelspec": {
   "display_name": "Tensorflow 2.13.0",
   "language": "python",
   "name": "tensorflow-2.13.0"
  },
  "language_info": {
   "codemirror_mode": {
    "name": "ipython",
    "version": 3
   },
   "file_extension": ".py",
   "mimetype": "text/x-python",
   "name": "python",
   "nbconvert_exporter": "python",
   "pygments_lexer": "ipython3",
   "version": "3.10.12"
  }
 },
 "nbformat": 4,
 "nbformat_minor": 5
}
